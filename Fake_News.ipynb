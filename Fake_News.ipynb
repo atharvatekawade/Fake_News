{
  "nbformat": 4,
  "nbformat_minor": 0,
  "metadata": {
    "colab": {
      "name": "Fake_News.ipynb",
      "provenance": []
    },
    "kernelspec": {
      "name": "python3",
      "display_name": "Python 3"
    },
    "language_info": {
      "name": "python"
    }
  },
  "cells": [
    {
      "cell_type": "code",
      "metadata": {
        "id": "VxfgsNHaLmvl"
      },
      "source": [
        "import pandas as pd"
      ],
      "execution_count": 1,
      "outputs": []
    },
    {
      "cell_type": "code",
      "metadata": {
        "id": "kGcY2oepdftg"
      },
      "source": [
        "df=pd.read_csv('data.csv')"
      ],
      "execution_count": 2,
      "outputs": []
    },
    {
      "cell_type": "code",
      "metadata": {
        "colab": {
          "base_uri": "https://localhost:8080/",
          "height": 204
        },
        "id": "F9QoEYQFdjYZ",
        "outputId": "a3b3d502-861c-4b0a-daf9-1b255d97336f"
      },
      "source": [
        "df.head()"
      ],
      "execution_count": 3,
      "outputs": [
        {
          "output_type": "execute_result",
          "data": {
            "text/html": [
              "<div>\n",
              "<style scoped>\n",
              "    .dataframe tbody tr th:only-of-type {\n",
              "        vertical-align: middle;\n",
              "    }\n",
              "\n",
              "    .dataframe tbody tr th {\n",
              "        vertical-align: top;\n",
              "    }\n",
              "\n",
              "    .dataframe thead th {\n",
              "        text-align: right;\n",
              "    }\n",
              "</style>\n",
              "<table border=\"1\" class=\"dataframe\">\n",
              "  <thead>\n",
              "    <tr style=\"text-align: right;\">\n",
              "      <th></th>\n",
              "      <th>id</th>\n",
              "      <th>title</th>\n",
              "      <th>author</th>\n",
              "      <th>text</th>\n",
              "      <th>label</th>\n",
              "    </tr>\n",
              "  </thead>\n",
              "  <tbody>\n",
              "    <tr>\n",
              "      <th>0</th>\n",
              "      <td>0</td>\n",
              "      <td>House Dem Aide: We Didn’t Even See Comey’s Let...</td>\n",
              "      <td>Darrell Lucus</td>\n",
              "      <td>House Dem Aide: We Didn’t Even See Comey’s Let...</td>\n",
              "      <td>1</td>\n",
              "    </tr>\n",
              "    <tr>\n",
              "      <th>1</th>\n",
              "      <td>1</td>\n",
              "      <td>FLYNN: Hillary Clinton, Big Woman on Campus - ...</td>\n",
              "      <td>Daniel J. Flynn</td>\n",
              "      <td>Ever get the feeling your life circles the rou...</td>\n",
              "      <td>0</td>\n",
              "    </tr>\n",
              "    <tr>\n",
              "      <th>2</th>\n",
              "      <td>2</td>\n",
              "      <td>Why the Truth Might Get You Fired</td>\n",
              "      <td>Consortiumnews.com</td>\n",
              "      <td>Why the Truth Might Get You Fired October 29, ...</td>\n",
              "      <td>1</td>\n",
              "    </tr>\n",
              "    <tr>\n",
              "      <th>3</th>\n",
              "      <td>3</td>\n",
              "      <td>15 Civilians Killed In Single US Airstrike Hav...</td>\n",
              "      <td>Jessica Purkiss</td>\n",
              "      <td>Videos 15 Civilians Killed In Single US Airstr...</td>\n",
              "      <td>1</td>\n",
              "    </tr>\n",
              "    <tr>\n",
              "      <th>4</th>\n",
              "      <td>4</td>\n",
              "      <td>Iranian woman jailed for fictional unpublished...</td>\n",
              "      <td>Howard Portnoy</td>\n",
              "      <td>Print \\nAn Iranian woman has been sentenced to...</td>\n",
              "      <td>1</td>\n",
              "    </tr>\n",
              "  </tbody>\n",
              "</table>\n",
              "</div>"
            ],
            "text/plain": [
              "   id  ... label\n",
              "0   0  ...     1\n",
              "1   1  ...     0\n",
              "2   2  ...     1\n",
              "3   3  ...     1\n",
              "4   4  ...     1\n",
              "\n",
              "[5 rows x 5 columns]"
            ]
          },
          "metadata": {
            "tags": []
          },
          "execution_count": 3
        }
      ]
    },
    {
      "cell_type": "code",
      "metadata": {
        "id": "hmPY1cwnNCOK"
      },
      "source": [
        "df=df.dropna()"
      ],
      "execution_count": 4,
      "outputs": []
    },
    {
      "cell_type": "code",
      "metadata": {
        "id": "WoomlybePg0f"
      },
      "source": [
        "X=df.drop('label',axis=1)"
      ],
      "execution_count": 5,
      "outputs": []
    },
    {
      "cell_type": "code",
      "metadata": {
        "id": "01SXWNXJeZq-"
      },
      "source": [
        "y=df['label']"
      ],
      "execution_count": 6,
      "outputs": []
    },
    {
      "cell_type": "code",
      "metadata": {
        "id": "SQ6l_oUOPzon"
      },
      "source": [
        "import tensorflow as tf"
      ],
      "execution_count": 7,
      "outputs": []
    },
    {
      "cell_type": "code",
      "metadata": {
        "id": "ODUS19KhP4uJ"
      },
      "source": [
        "from tensorflow.keras.layers import Embedding,LSTM,Dense,Dropout\n",
        "from tensorflow.keras .preprocessing.sequence import pad_sequences\n",
        "from tensorflow.keras.preprocessing.text import one_hot\n",
        "from tensorflow.keras.models import Sequential"
      ],
      "execution_count": 8,
      "outputs": []
    },
    {
      "cell_type": "code",
      "metadata": {
        "id": "IDfOQ4a6Qrgf"
      },
      "source": [
        "V=5000"
      ],
      "execution_count": 9,
      "outputs": []
    },
    {
      "cell_type": "code",
      "metadata": {
        "id": "r0t5_vVSRCTD"
      },
      "source": [
        "messages=X.copy()"
      ],
      "execution_count": 10,
      "outputs": []
    },
    {
      "cell_type": "code",
      "metadata": {
        "id": "zLaMLp0zR7Q-"
      },
      "source": [
        "messages.reset_index(inplace=True)"
      ],
      "execution_count": 11,
      "outputs": []
    },
    {
      "cell_type": "code",
      "metadata": {
        "id": "HUXrnXQiRZW1"
      },
      "source": [
        "import nltk\n",
        "import re"
      ],
      "execution_count": 12,
      "outputs": []
    },
    {
      "cell_type": "code",
      "metadata": {
        "colab": {
          "base_uri": "https://localhost:8080/"
        },
        "id": "dZ_S00zaRcE2",
        "outputId": "acb387b7-ee12-457b-8705-9ed74a38e491"
      },
      "source": [
        "nltk.download('stopwords')"
      ],
      "execution_count": 13,
      "outputs": [
        {
          "output_type": "stream",
          "text": [
            "[nltk_data] Downloading package stopwords to /root/nltk_data...\n",
            "[nltk_data]   Package stopwords is already up-to-date!\n"
          ],
          "name": "stdout"
        },
        {
          "output_type": "execute_result",
          "data": {
            "text/plain": [
              "True"
            ]
          },
          "metadata": {
            "tags": []
          },
          "execution_count": 13
        }
      ]
    },
    {
      "cell_type": "code",
      "metadata": {
        "id": "GM-d1mV1RMAZ"
      },
      "source": [
        "from nltk.corpus import stopwords"
      ],
      "execution_count": 14,
      "outputs": []
    },
    {
      "cell_type": "code",
      "metadata": {
        "id": "4aaNxEYqRexN"
      },
      "source": [
        "from nltk.stem.porter import PorterStemmer"
      ],
      "execution_count": 15,
      "outputs": []
    },
    {
      "cell_type": "code",
      "metadata": {
        "id": "b5xMcZIcSpWh"
      },
      "source": [
        "def stem(df,title):\n",
        "  corpus=[]\n",
        "  ps=PorterStemmer()\n",
        "  for i in range(len(df)):\n",
        "    message=df[title][i]\n",
        "    message=re.sub('[^a-zA-Z]',' ',message)\n",
        "    message=message.lower()\n",
        "    message=message.split(' ')\n",
        "    message=[ps.stem(word) for word in message if word not in stopwords.words('english')]\n",
        "    message=' '.join(message)\n",
        "    corpus.append(message)\n",
        "  return corpus"
      ],
      "execution_count": 16,
      "outputs": []
    },
    {
      "cell_type": "code",
      "metadata": {
        "id": "W6AOmSnlSp0p"
      },
      "source": [
        "corpus=stem(messages,'title')"
      ],
      "execution_count": 17,
      "outputs": []
    },
    {
      "cell_type": "code",
      "metadata": {
        "id": "Pu7AG5YqTZgQ"
      },
      "source": [
        "one_hot_repr=[one_hot(i,V) for i in corpus]"
      ],
      "execution_count": 18,
      "outputs": []
    },
    {
      "cell_type": "code",
      "metadata": {
        "id": "9UljvCrZTmNo"
      },
      "source": [
        "sent_len=20\n",
        "padded_seq=pad_sequences(one_hot_repr,sent_len,padding='pre')"
      ],
      "execution_count": 19,
      "outputs": []
    },
    {
      "cell_type": "code",
      "metadata": {
        "colab": {
          "base_uri": "https://localhost:8080/"
        },
        "id": "_BJkCGO7UON7",
        "outputId": "5ca6b9b9-b29b-42c8-c596-1879a890033b"
      },
      "source": [
        "embedding_features=40\n",
        "m1=Sequential()\n",
        "m1.add(Embedding(V,embedding_features,input_length=sent_len))\n",
        "m1.add(LSTM(100))\n",
        "m1.add(Dense(1,activation='sigmoid'))\n",
        "m1.compile(loss='binary_crossentropy',optimizer='adam',metrics=['accuracy'])\n",
        "print(m1.summary())"
      ],
      "execution_count": 20,
      "outputs": [
        {
          "output_type": "stream",
          "text": [
            "Model: \"sequential\"\n",
            "_________________________________________________________________\n",
            "Layer (type)                 Output Shape              Param #   \n",
            "=================================================================\n",
            "embedding (Embedding)        (None, 20, 40)            200000    \n",
            "_________________________________________________________________\n",
            "lstm (LSTM)                  (None, 100)               56400     \n",
            "_________________________________________________________________\n",
            "dense (Dense)                (None, 1)                 101       \n",
            "=================================================================\n",
            "Total params: 256,501\n",
            "Trainable params: 256,501\n",
            "Non-trainable params: 0\n",
            "_________________________________________________________________\n",
            "None\n"
          ],
          "name": "stdout"
        }
      ]
    },
    {
      "cell_type": "code",
      "metadata": {
        "id": "lJsEl5n3XrNI"
      },
      "source": [
        "import numpy as np"
      ],
      "execution_count": 21,
      "outputs": []
    },
    {
      "cell_type": "code",
      "metadata": {
        "id": "6bCVkf1uXLlF"
      },
      "source": [
        "X_final=np.array(padded_seq)\n",
        "y_final=np.array(y)"
      ],
      "execution_count": 22,
      "outputs": []
    },
    {
      "cell_type": "code",
      "metadata": {
        "id": "GI9FQhUCXzdL"
      },
      "source": [
        "from sklearn.model_selection import train_test_split\n",
        "X_train,X_test,y_train,y_test=train_test_split(X_final,y_final,test_size=0.33)"
      ],
      "execution_count": 23,
      "outputs": []
    },
    {
      "cell_type": "code",
      "metadata": {
        "colab": {
          "base_uri": "https://localhost:8080/"
        },
        "id": "XLe4MVZLYPh3",
        "outputId": "d8fc8b67-82b7-4681-f831-a55988b31fbc"
      },
      "source": [
        "m1.fit(X_train,y_train,validation_data=(X_test,y_test),epochs=10,batch_size=64)"
      ],
      "execution_count": 24,
      "outputs": [
        {
          "output_type": "stream",
          "text": [
            "Epoch 1/10\n",
            "192/192 [==============================] - 8s 33ms/step - loss: 0.3297 - accuracy: 0.8459 - val_loss: 0.1861 - val_accuracy: 0.9205\n",
            "Epoch 2/10\n",
            "192/192 [==============================] - 6s 31ms/step - loss: 0.1456 - accuracy: 0.9433 - val_loss: 0.1822 - val_accuracy: 0.9229\n",
            "Epoch 3/10\n",
            "192/192 [==============================] - 6s 31ms/step - loss: 0.1015 - accuracy: 0.9618 - val_loss: 0.2133 - val_accuracy: 0.9186\n",
            "Epoch 4/10\n",
            "192/192 [==============================] - 6s 31ms/step - loss: 0.0691 - accuracy: 0.9756 - val_loss: 0.2309 - val_accuracy: 0.9226\n",
            "Epoch 5/10\n",
            "192/192 [==============================] - 6s 31ms/step - loss: 0.0449 - accuracy: 0.9860 - val_loss: 0.2711 - val_accuracy: 0.9223\n",
            "Epoch 6/10\n",
            "192/192 [==============================] - 6s 31ms/step - loss: 0.0290 - accuracy: 0.9909 - val_loss: 0.3427 - val_accuracy: 0.9254\n",
            "Epoch 7/10\n",
            "192/192 [==============================] - 6s 31ms/step - loss: 0.0161 - accuracy: 0.9962 - val_loss: 0.4181 - val_accuracy: 0.9180\n",
            "Epoch 8/10\n",
            "192/192 [==============================] - 6s 31ms/step - loss: 0.0108 - accuracy: 0.9970 - val_loss: 0.3052 - val_accuracy: 0.9193\n",
            "Epoch 9/10\n",
            "192/192 [==============================] - 6s 31ms/step - loss: 0.0093 - accuracy: 0.9975 - val_loss: 0.4772 - val_accuracy: 0.9208\n",
            "Epoch 10/10\n",
            "192/192 [==============================] - 6s 31ms/step - loss: 0.0058 - accuracy: 0.9988 - val_loss: 0.4600 - val_accuracy: 0.9213\n"
          ],
          "name": "stdout"
        },
        {
          "output_type": "execute_result",
          "data": {
            "text/plain": [
              "<tensorflow.python.keras.callbacks.History at 0x7f1b9f38fb90>"
            ]
          },
          "metadata": {
            "tags": []
          },
          "execution_count": 24
        }
      ]
    },
    {
      "cell_type": "code",
      "metadata": {
        "id": "HcjGtNafiuNu"
      },
      "source": [
        "from sklearn.metrics import confusion_matrix,accuracy_score"
      ],
      "execution_count": 25,
      "outputs": []
    },
    {
      "cell_type": "code",
      "metadata": {
        "id": "kg1UbmuaivfG"
      },
      "source": [
        "def results(y_test,y_pred):\n",
        "  print(\"Confusion matrix: \",confusion_matrix(y_test,y_pred))\n",
        "  print(\"\\nAccuracy: \",accuracy_score(y_test,y_pred))"
      ],
      "execution_count": 33,
      "outputs": []
    },
    {
      "cell_type": "code",
      "metadata": {
        "colab": {
          "base_uri": "https://localhost:8080/"
        },
        "id": "Vfs78sr6eusk",
        "outputId": "39116f4e-f67b-4398-fade-12762f594d7b"
      },
      "source": [
        "y_pred=m1.predict_classes(X_test)"
      ],
      "execution_count": 27,
      "outputs": [
        {
          "output_type": "stream",
          "text": [
            "/usr/local/lib/python3.7/dist-packages/tensorflow/python/keras/engine/sequential.py:455: UserWarning: `model.predict_classes()` is deprecated and will be removed after 2021-01-01. Please use instead:* `np.argmax(model.predict(x), axis=-1)`,   if your model does multi-class classification   (e.g. if it uses a `softmax` last-layer activation).* `(model.predict(x) > 0.5).astype(\"int32\")`,   if your model does binary classification   (e.g. if it uses a `sigmoid` last-layer activation).\n",
            "  warnings.warn('`model.predict_classes()` is deprecated and '\n"
          ],
          "name": "stderr"
        }
      ]
    },
    {
      "cell_type": "code",
      "metadata": {
        "colab": {
          "base_uri": "https://localhost:8080/"
        },
        "id": "BHihdYqei6Bd",
        "outputId": "46e2c475-2187-4de4-8c2d-c4d1cbc8b4dc"
      },
      "source": [
        "results(y_test,y_pred)"
      ],
      "execution_count": 34,
      "outputs": [
        {
          "output_type": "stream",
          "text": [
            "Confusion matrix:  [[3112  327]\n",
            " [ 155 2441]]\n",
            "\n",
            "Accuracy:  0.9201325600662801\n"
          ],
          "name": "stdout"
        }
      ]
    },
    {
      "cell_type": "code",
      "metadata": {
        "colab": {
          "base_uri": "https://localhost:8080/"
        },
        "id": "UhRdSV_sgTJA",
        "outputId": "b7e4cc85-a7cc-451a-ab5c-e28cae3b8482"
      },
      "source": [
        "embedding_features=40\n",
        "m2=Sequential()\n",
        "m2.add(Embedding(V,embedding_features,input_length=sent_len))\n",
        "m2.add(Dropout(0.3))\n",
        "m2.add(LSTM(100))\n",
        "m2.add(Dropout(0.3))\n",
        "m2.add(Dense(1,activation='sigmoid'))\n",
        "m2.compile(loss='binary_crossentropy',optimizer='adam',metrics=['accuracy'])\n",
        "print(m1.summary())"
      ],
      "execution_count": 29,
      "outputs": [
        {
          "output_type": "stream",
          "text": [
            "Model: \"sequential\"\n",
            "_________________________________________________________________\n",
            "Layer (type)                 Output Shape              Param #   \n",
            "=================================================================\n",
            "embedding (Embedding)        (None, 20, 40)            200000    \n",
            "_________________________________________________________________\n",
            "lstm (LSTM)                  (None, 100)               56400     \n",
            "_________________________________________________________________\n",
            "dense (Dense)                (None, 1)                 101       \n",
            "=================================================================\n",
            "Total params: 256,501\n",
            "Trainable params: 256,501\n",
            "Non-trainable params: 0\n",
            "_________________________________________________________________\n",
            "None\n"
          ],
          "name": "stdout"
        }
      ]
    },
    {
      "cell_type": "code",
      "metadata": {
        "colab": {
          "base_uri": "https://localhost:8080/"
        },
        "id": "35hS3IHCgjLv",
        "outputId": "07159a01-09f4-425a-df82-2e00e66a15da"
      },
      "source": [
        "m2.fit(X_train,y_train,validation_data=(X_test,y_test),epochs=10,batch_size=64)"
      ],
      "execution_count": 30,
      "outputs": [
        {
          "output_type": "stream",
          "text": [
            "Epoch 1/10\n",
            "192/192 [==============================] - 8s 34ms/step - loss: 0.3468 - accuracy: 0.8371 - val_loss: 0.1916 - val_accuracy: 0.9195\n",
            "Epoch 2/10\n",
            "192/192 [==============================] - 6s 32ms/step - loss: 0.1603 - accuracy: 0.9367 - val_loss: 0.1805 - val_accuracy: 0.9229\n",
            "Epoch 3/10\n",
            "192/192 [==============================] - 6s 32ms/step - loss: 0.1213 - accuracy: 0.9537 - val_loss: 0.1916 - val_accuracy: 0.9246\n",
            "Epoch 4/10\n",
            "192/192 [==============================] - 6s 32ms/step - loss: 0.0963 - accuracy: 0.9645 - val_loss: 0.2129 - val_accuracy: 0.9181\n",
            "Epoch 5/10\n",
            "192/192 [==============================] - 6s 32ms/step - loss: 0.0757 - accuracy: 0.9745 - val_loss: 0.2377 - val_accuracy: 0.9208\n",
            "Epoch 6/10\n",
            "192/192 [==============================] - 6s 32ms/step - loss: 0.0572 - accuracy: 0.9813 - val_loss: 0.2486 - val_accuracy: 0.9181\n",
            "Epoch 7/10\n",
            "192/192 [==============================] - 6s 32ms/step - loss: 0.0434 - accuracy: 0.9856 - val_loss: 0.3459 - val_accuracy: 0.9153\n",
            "Epoch 8/10\n",
            "192/192 [==============================] - 6s 32ms/step - loss: 0.0314 - accuracy: 0.9893 - val_loss: 0.3299 - val_accuracy: 0.9201\n",
            "Epoch 9/10\n",
            "192/192 [==============================] - 6s 32ms/step - loss: 0.0275 - accuracy: 0.9913 - val_loss: 0.3486 - val_accuracy: 0.9178\n",
            "Epoch 10/10\n",
            "192/192 [==============================] - 6s 31ms/step - loss: 0.0231 - accuracy: 0.9929 - val_loss: 0.3747 - val_accuracy: 0.9201\n"
          ],
          "name": "stdout"
        },
        {
          "output_type": "execute_result",
          "data": {
            "text/plain": [
              "<tensorflow.python.keras.callbacks.History at 0x7f1b9c7f7f50>"
            ]
          },
          "metadata": {
            "tags": []
          },
          "execution_count": 30
        }
      ]
    },
    {
      "cell_type": "code",
      "metadata": {
        "colab": {
          "base_uri": "https://localhost:8080/"
        },
        "id": "9hGNKwK8goBx",
        "outputId": "54a82018-80da-4c19-af12-7d8dbe0bb8ad"
      },
      "source": [
        "y_pred=m2.predict_classes(X_test)"
      ],
      "execution_count": 31,
      "outputs": [
        {
          "output_type": "stream",
          "text": [
            "/usr/local/lib/python3.7/dist-packages/tensorflow/python/keras/engine/sequential.py:455: UserWarning: `model.predict_classes()` is deprecated and will be removed after 2021-01-01. Please use instead:* `np.argmax(model.predict(x), axis=-1)`,   if your model does multi-class classification   (e.g. if it uses a `softmax` last-layer activation).* `(model.predict(x) > 0.5).astype(\"int32\")`,   if your model does binary classification   (e.g. if it uses a `sigmoid` last-layer activation).\n",
            "  warnings.warn('`model.predict_classes()` is deprecated and '\n"
          ],
          "name": "stderr"
        }
      ]
    },
    {
      "cell_type": "code",
      "metadata": {
        "colab": {
          "base_uri": "https://localhost:8080/"
        },
        "id": "rFJB9gwbfxu7",
        "outputId": "e4f71e71-1839-4fd8-8d47-a703b50124f6"
      },
      "source": [
        "results(y_test,y_pred)"
      ],
      "execution_count": 35,
      "outputs": [
        {
          "output_type": "stream",
          "text": [
            "Confusion matrix:  [[3112  327]\n",
            " [ 155 2441]]\n",
            "\n",
            "Accuracy:  0.9201325600662801\n"
          ],
          "name": "stdout"
        }
      ]
    },
    {
      "cell_type": "code",
      "metadata": {
        "id": "a3lPGPOpj2es"
      },
      "source": [
        ""
      ],
      "execution_count": null,
      "outputs": []
    }
  ]
}